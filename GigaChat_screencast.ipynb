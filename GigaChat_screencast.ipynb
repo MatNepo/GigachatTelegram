{
  "nbformat": 4,
  "nbformat_minor": 0,
  "metadata": {
    "colab": {
      "provenance": []
    },
    "kernelspec": {
      "name": "python3",
      "display_name": "Python 3"
    },
    "language_info": {
      "name": "python"
    }
  },
  "cells": [
    {
      "cell_type": "markdown",
      "source": [
        "# Работа с API через библиотеку requests\n",
        "Для начала работы нужно [получить доступ](https://developers.sber.ru/docs/ru/gigachat/api/integration).\n",
        "## Авторизация\n",
        "Объявим ключи для авторизации"
      ],
      "metadata": {
        "id": "UhxINke4kCa8"
      }
    },
    {
      "cell_type": "code",
      "execution_count": 7,
      "metadata": {
        "id": "kIiH4X-WjHTc"
      },
      "outputs": [],
      "source": [
        "# Используем вкладку \"Секреты\" левой панели Colab для хранения ключей\n",
        "from google.colab import userdata\n",
        "client_id = userdata.get('SBER_ID')\n",
        "secret = userdata.get('SBER_SECRET')\n",
        "auth = userdata.get('SBER_AUTH')"
      ]
    },
    {
      "cell_type": "markdown",
      "source": [
        "Для авторизации можно использовать либо пару client_id и secret, но это требует некоторых действий"
      ],
      "metadata": {
        "id": "lNQBBJEilk8Y"
      }
    },
    {
      "cell_type": "code",
      "source": [
        "import base64\n",
        "credentials = f\"{client_id}:{secret}\"\n",
        "encoded_credentials = base64.b64encode(credentials.encode('utf-8')).decode('utf-8')"
      ],
      "metadata": {
        "id": "QHyvxn3sla3f"
      },
      "execution_count": 8,
      "outputs": []
    },
    {
      "cell_type": "markdown",
      "source": [
        "И получаемая в итоге строка идентична нашему ключу auth"
      ],
      "metadata": {
        "id": "Malam8sKntMW"
      }
    },
    {
      "cell_type": "code",
      "source": [
        "encoded_credentials == auth"
      ],
      "metadata": {
        "colab": {
          "base_uri": "https://localhost:8080/"
        },
        "id": "76wp7e7SnsWZ",
        "outputId": "8d5f1949-e6a2-4faa-d1cc-ee1fb738b50b"
      },
      "execution_count": 9,
      "outputs": [
        {
          "output_type": "execute_result",
          "data": {
            "text/plain": [
              "True"
            ]
          },
          "metadata": {},
          "execution_count": 9
        }
      ]
    },
    {
      "cell_type": "markdown",
      "source": [
        "Поэтому используем для авторизации auth.\n",
        "\n",
        "[Документация по авторизации](https://developers.sber.ru/docs/ru/gigachat/api/reference/rest/post-token)"
      ],
      "metadata": {
        "id": "0su5Ut3toDwk"
      }
    },
    {
      "cell_type": "code",
      "source": [
        "import requests\n",
        "import uuid\n",
        "\n",
        "def get_token(auth_token, scope='GIGACHAT_API_PERS'):\n",
        "    \"\"\"\n",
        "      Выполняет POST-запрос к эндпоинту, который выдает токен.\n",
        "\n",
        "      Параметры:\n",
        "      - auth_token (str): токен авторизации, необходимый для запроса.\n",
        "      - область (str): область действия запроса API. По умолчанию — «GIGACHAT_API_PERS».\n",
        "\n",
        "      Возвращает:\n",
        "      - ответ API, где токен и срок его \"годности\".\n",
        "      \"\"\"\n",
        "    # Создадим идентификатор UUID (36 знаков)\n",
        "    rq_uid = str(uuid.uuid4())\n",
        "\n",
        "    # API URL\n",
        "    url = \"https://ngw.devices.sberbank.ru:9443/api/v2/oauth\"\n",
        "\n",
        "    # Заголовки\n",
        "    headers = {\n",
        "        'Content-Type': 'application/x-www-form-urlencoded',\n",
        "        'Accept': 'application/json',\n",
        "        'RqUID': rq_uid,\n",
        "        'Authorization': f'Basic {auth_token}'\n",
        "    }\n",
        "\n",
        "    # Тело запроса\n",
        "    payload = {\n",
        "        'scope': scope\n",
        "    }\n",
        "\n",
        "    try:\n",
        "        # Делаем POST запрос с отключенной SSL верификацией\n",
        "        # (можно скачать сертификаты Минцифры, тогда отключать проверку не надо)\n",
        "        response = requests.post(url, headers=headers, data=payload, verify=False)\n",
        "        return response\n",
        "    except requests.RequestException as e:\n",
        "        print(f\"Ошибка: {str(e)}\")\n",
        "        return -1\n"
      ],
      "metadata": {
        "id": "twVbmbjFoKBY"
      },
      "execution_count": 10,
      "outputs": []
    },
    {
      "cell_type": "code",
      "source": [
        "response = get_token(auth)\n",
        "if response != 1:\n",
        "  print(response.text)\n",
        "  giga_token = response.json()['access_token']"
      ],
      "metadata": {
        "id": "vp8ocSoUsnL5",
        "colab": {
          "base_uri": "https://localhost:8080/"
        },
        "outputId": "cf8fce83-4a87-4dee-b1d5-3919841da77a"
      },
      "execution_count": 11,
      "outputs": [
        {
          "output_type": "stream",
          "name": "stderr",
          "text": [
            "/usr/local/lib/python3.10/dist-packages/urllib3/connectionpool.py:1100: InsecureRequestWarning: Unverified HTTPS request is being made to host 'ngw.devices.sberbank.ru'. Adding certificate verification is strongly advised. See: https://urllib3.readthedocs.io/en/latest/advanced-usage.html#tls-warnings\n",
            "  warnings.warn(\n"
          ]
        },
        {
          "output_type": "stream",
          "name": "stdout",
          "text": [
            "{\"access_token\":\"eyJjdHkiOiJqd3QiLCJlbmMiOiJBMjU2Q0JDLUhTNTEyIiwiYWxnIjoiUlNBLU9BRVAtMjU2In0.IUuexxOoPcyj1VyLjmPdEkXdoQQu9NGIdfu0bkar4T5GkGnCh6O6qu62nbZu9RF7PgmLc21EZmIpkdP5h2QNe2wd7swxKRe-gA3mw8CB5berrz4NtSiXsX1nvFtuttKMJK0EL8xx1ruewpF4QWwZwPv6gfqN2LHG1K9hKv9A-16Gd6OnA45Dgo-dqAGOuhMlw9jXbHCR4rG4izu4xMRzCWPGh7jUKElGpIoO0J2w5sDtU_LRADXj7KqF7fTYBE4l0_RMAY4UKOYvERtPgRXAsJPP2BLtlkXUPP4LmXRZE7FgAOU6RXs8wp7nd9dw081dNajO8tT7GMm5tEDVwlUdNA.cnBKjnDbpOxgian0p9U3CQ.cuRpZeYyZIhTgxdJW5kj6MW2PiJPjTeq4dChrxBfNeyuTskNs1ACYcR6dH9mZGFQX44IfsXOhSpqe7oG96uXvBd0ldIgtJ6F4vVVjSIXqbe1mHSERuWTrHovZQ9qZH43T_sU5oFCPLVgWlTxp_S2h7-PQ4yuAFJID3pf9EqyHiEiRDwLhU5XYJklwuuICX5oTzSbkWyNk9odmJ6XSNbmDRMrVXS-cyxydoFxDb8UUKgbJTtjwinxG2A_fdkFBoa7ivnm1a59aqMgYc002KIEl9m64Pwarph0vsyT8sM0J-VV6cCI0-ymdEMaJaaWKd3JcSsdStdi1ZVv42bV42v0zblWMMmVRxkqxjzToLP3q9UWZHoN3_iii_P-5mKbh_3VJlZ6Y7tivK2UU-DFolPvhcKgy5B5qaED_Hibj3ioCXaMdazbV2AmYMHoCMN7_NCqbLDf2bA5ABAzCCu8kAwZE9dVOROdAHTPmMbfWjI_qYEp8xo_COpbeUxbujhS407ye1qJm977zaYFBbVkhiG72nTKKxKm98Au7sNufKrfLVM9DNzEXrVcU0L2ABOTYxjyk0KwxnZl2XMbt59QGz4MYUywxubi-sSgE4U0xzO0dZQ2ujuDhJ-QTqCCF_Eejnlo0_QSJ3qVhQ-dZiE_WRjcP2UjH0mQx861btx4DfHzAMRyEd3kyO-24MfEIq365QjUPxrdbCabsns44JqvZo9t7XkzyRsjopp6PFTMzZBQf58.dlHKeHSPc6DTjG0JoKEaFcLY_nCjuuONKImPCUPgvH4\",\"expires_at\":1714505362394}\n"
          ]
        }
      ]
    },
    {
      "cell_type": "markdown",
      "source": [
        "## Получение перечня моделей\n",
        "[Документация](https://developers.sber.ru/docs/ru/gigachat/api/reference/rest/get-models)"
      ],
      "metadata": {
        "id": "5XRkDeSKlT-k"
      }
    },
    {
      "cell_type": "code",
      "source": [
        "import requests\n",
        "\n",
        "url = \"https://gigachat.devices.sberbank.ru/api/v1/models\"\n",
        "\n",
        "payload={}\n",
        "headers = {\n",
        "  'Accept': 'application/json',\n",
        "  'Authorization': f'Bearer {giga_token}'\n",
        "}\n",
        "\n",
        "response = requests.request(\"GET\", url, headers=headers, data=payload, verify=False)\n",
        "\n",
        "print(response.text)"
      ],
      "metadata": {
        "id": "dYNDZdYcPkzA",
        "colab": {
          "base_uri": "https://localhost:8080/"
        },
        "outputId": "571ba4ae-42da-4ece-8643-03899fbc7714"
      },
      "execution_count": 12,
      "outputs": [
        {
          "output_type": "stream",
          "name": "stdout",
          "text": [
            "{\"object\":\"list\",\"data\":[{\"id\":\"GigaChat\",\"object\":\"model\",\"owned_by\":\"salutedevices\"},{\"id\":\"GigaChat-Plus\",\"object\":\"model\",\"owned_by\":\"salutedevices\"},{\"id\":\"GigaChat-Plus-preview\",\"object\":\"model\",\"owned_by\":\"salutedevices\"},{\"id\":\"GigaChat-Pro\",\"object\":\"model\",\"owned_by\":\"salutedevices\"},{\"id\":\"GigaChat-Pro-preview\",\"object\":\"model\",\"owned_by\":\"salutedevices\"},{\"id\":\"GigaChat-preview\",\"object\":\"model\",\"owned_by\":\"salutedevices\"}]}\n"
          ]
        },
        {
          "output_type": "stream",
          "name": "stderr",
          "text": [
            "/usr/local/lib/python3.10/dist-packages/urllib3/connectionpool.py:1100: InsecureRequestWarning: Unverified HTTPS request is being made to host 'gigachat.devices.sberbank.ru'. Adding certificate verification is strongly advised. See: https://urllib3.readthedocs.io/en/latest/advanced-usage.html#tls-warnings\n",
            "  warnings.warn(\n"
          ]
        }
      ]
    },
    {
      "cell_type": "markdown",
      "source": [
        "## Сделаем запросы на генерацию текста\n",
        "Начнем с отправки отдельных сообщений"
      ],
      "metadata": {
        "id": "ZWkoaz0gxoDZ"
      }
    },
    {
      "cell_type": "code",
      "source": [
        "import requests\n",
        "import json\n",
        "\n",
        "def get_chat_completion(auth_token, user_message):\n",
        "    \"\"\"\n",
        "    Отправляет POST-запрос к API чата для получения ответа от модели GigaChat.\n",
        "\n",
        "    Параметры:\n",
        "    - auth_token (str): Токен для авторизации в API.\n",
        "    - user_message (str): Сообщение от пользователя, для которого нужно получить ответ.\n",
        "\n",
        "    Возвращает:\n",
        "    - str: Ответ от API в виде текстовой строки.\n",
        "    \"\"\"\n",
        "    # URL API, к которому мы обращаемся\n",
        "    url = \"https://gigachat.devices.sberbank.ru/api/v1/chat/completions\"\n",
        "\n",
        "    # Подготовка данных запроса в формате JSON\n",
        "    payload = json.dumps({\n",
        "        \"model\": \"GigaChat\",  # Используемая модель\n",
        "        \"messages\": [\n",
        "            {\n",
        "                \"role\": \"user\",  # Роль отправителя (пользователь)\n",
        "                \"content\": user_message  # Содержание сообщения\n",
        "            }\n",
        "        ],\n",
        "        \"temperature\": 1,  # Температура генерации\n",
        "        \"top_p\": 0.1,  # Параметр top_p для контроля разнообразия ответов\n",
        "        \"n\": 1,  # Количество возвращаемых ответов\n",
        "        \"stream\": False,  # Потоковая ли передача ответов\n",
        "        \"max_tokens\": 512,  # Максимальное количество токенов в ответе\n",
        "        \"repetition_penalty\": 1,  # Штраф за повторения\n",
        "        \"update_interval\": 0  # Интервал обновления (для потоковой передачи)\n",
        "    })\n",
        "\n",
        "    # Заголовки запроса\n",
        "    headers = {\n",
        "        'Content-Type': 'application/json',  # Тип содержимого - JSON\n",
        "        'Accept': 'application/json',  # Принимаем ответ в формате JSON\n",
        "        'Authorization': f'Bearer {auth_token}'  # Токен авторизации\n",
        "    }\n",
        "\n",
        "    # Выполнение POST-запроса и возвращение ответа\n",
        "    try:\n",
        "        response = requests.request(\"POST\", url, headers=headers, data=payload, verify=False)\n",
        "        return response\n",
        "    except requests.RequestException as e:\n",
        "        # Обработка исключения в случае ошибки запроса\n",
        "        print(f\"Произошла ошибка: {str(e)}\")\n",
        "        return -1\n",
        "\n"
      ],
      "metadata": {
        "id": "IW07KDmPtBY5"
      },
      "execution_count": 13,
      "outputs": []
    },
    {
      "cell_type": "code",
      "source": [
        "answer = get_chat_completion(giga_token, 'Как на Пайтоне сделать GET запрос?')"
      ],
      "metadata": {
        "id": "tk8wXlYpym4Q",
        "colab": {
          "base_uri": "https://localhost:8080/"
        },
        "outputId": "6d5b018c-7568-4d62-caed-2ca2e0c0bcfe"
      },
      "execution_count": 14,
      "outputs": [
        {
          "output_type": "stream",
          "name": "stderr",
          "text": [
            "/usr/local/lib/python3.10/dist-packages/urllib3/connectionpool.py:1100: InsecureRequestWarning: Unverified HTTPS request is being made to host 'gigachat.devices.sberbank.ru'. Adding certificate verification is strongly advised. See: https://urllib3.readthedocs.io/en/latest/advanced-usage.html#tls-warnings\n",
            "  warnings.warn(\n"
          ]
        }
      ]
    },
    {
      "cell_type": "code",
      "source": [
        "answer.json()"
      ],
      "metadata": {
        "id": "meb0EHrc22kH",
        "colab": {
          "base_uri": "https://localhost:8080/"
        },
        "outputId": "708d9c88-67d1-4bf4-a723-611b10ca4e7e"
      },
      "execution_count": 15,
      "outputs": [
        {
          "output_type": "execute_result",
          "data": {
            "text/plain": [
              "{'choices': [{'message': {'content': \"Вы можете использовать модуль `requests` для выполнения GET-запросов на Python. Вот базовый пример:\\n\\n```python\\nimport requests\\n\\nresponse = requests.get('http://example.com')\\n\\n```\\n\\nВ этом примере `response` будет содержать ответ на GET-запрос. Вы можете проверить статус кода ответа с помощью `response.status_code` и содержимое ответа с помощью `response.text`.\",\n",
              "    'role': 'assistant'},\n",
              "   'index': 0,\n",
              "   'finish_reason': 'stop'}],\n",
              " 'created': 1714503590,\n",
              " 'model': 'GigaChat:3.1.24.3',\n",
              " 'object': 'chat.completion',\n",
              " 'usage': {'prompt_tokens': 20,\n",
              "  'completion_tokens': 93,\n",
              "  'total_tokens': 113,\n",
              "  'system_tokens': 204}}"
            ]
          },
          "metadata": {},
          "execution_count": 15
        }
      ]
    },
    {
      "cell_type": "code",
      "source": [
        "print(answer.json()['choices'][0]['message']['content'])"
      ],
      "metadata": {
        "id": "go-gSwti3ItM",
        "colab": {
          "base_uri": "https://localhost:8080/"
        },
        "outputId": "32fe214c-8608-4034-ffca-f5dfc2c0eba0"
      },
      "execution_count": 16,
      "outputs": [
        {
          "output_type": "stream",
          "name": "stdout",
          "text": [
            "Вы можете использовать модуль `requests` для выполнения GET-запросов на Python. Вот базовый пример:\n",
            "\n",
            "```python\n",
            "import requests\n",
            "\n",
            "response = requests.get('http://example.com')\n",
            "\n",
            "```\n",
            "\n",
            "В этом примере `response` будет содержать ответ на GET-запрос. Вы можете проверить статус кода ответа с помощью `response.status_code` и содержимое ответа с помощью `response.text`.\n"
          ]
        }
      ]
    },
    {
      "cell_type": "code",
      "source": [
        "from IPython.display import display, Markdown\n",
        "display(Markdown(answer.json()['choices'][0]['message']['content']))"
      ],
      "metadata": {
        "id": "tFVwwNeH3ilE",
        "colab": {
          "base_uri": "https://localhost:8080/",
          "height": 180
        },
        "outputId": "aeeaf457-279a-4a6d-bdc8-e32dd20c103d"
      },
      "execution_count": 17,
      "outputs": [
        {
          "output_type": "display_data",
          "data": {
            "text/plain": [
              "<IPython.core.display.Markdown object>"
            ],
            "text/markdown": "Вы можете использовать модуль `requests` для выполнения GET-запросов на Python. Вот базовый пример:\n\n```python\nimport requests\n\nresponse = requests.get('http://example.com')\n\n```\n\nВ этом примере `response` будет содержать ответ на GET-запрос. Вы можете проверить статус кода ответа с помощью `response.status_code` и содержимое ответа с помощью `response.text`."
          },
          "metadata": {}
        }
      ]
    },
    {
      "cell_type": "markdown",
      "source": [
        "## Создадим диалог"
      ],
      "metadata": {
        "id": "Za2yDvE3G2qz"
      }
    },
    {
      "cell_type": "code",
      "source": [
        "import requests\n",
        "import json\n",
        "\n",
        "def get_chat_completion(auth_token, user_message, conversation_history=None):\n",
        "    \"\"\"\n",
        "    Отправляет POST-запрос к API чата для получения ответа от модели GigaChat в рамках диалога.\n",
        "\n",
        "    Параметры:\n",
        "    - auth_token (str): Токен для авторизации в API.\n",
        "    - user_message (str): Сообщение от пользователя, для которого нужно получить ответ.\n",
        "    - conversation_history (list): История диалога в виде списка сообщений (опционально).\n",
        "\n",
        "    Возвращает:\n",
        "    - response (requests.Response): Ответ от API.\n",
        "    - conversation_history (list): Обновленная история диалога.\n",
        "    \"\"\"\n",
        "    # URL API, к которому мы обращаемся\n",
        "    url = \"https://gigachat.devices.sberbank.ru/api/v1/chat/completions\"\n",
        "\n",
        "    # Если история диалога не предоставлена, инициализируем пустым списком\n",
        "    if conversation_history is None:\n",
        "        conversation_history = []\n",
        "\n",
        "    # Добавляем сообщение пользователя в историю диалога\n",
        "    conversation_history.append({\n",
        "        \"role\": \"user\",\n",
        "        \"content\": user_message\n",
        "    })\n",
        "\n",
        "    # Подготовка данных запроса в формате JSON\n",
        "    payload = json.dumps({\n",
        "        \"model\": \"GigaChat:latest\",\n",
        "        \"messages\": conversation_history,\n",
        "        \"temperature\": 1,\n",
        "        \"top_p\": 0.1,\n",
        "        \"n\": 1,\n",
        "        \"stream\": False,\n",
        "        \"max_tokens\": 512,\n",
        "        \"repetition_penalty\": 1,\n",
        "        \"update_interval\": 0\n",
        "    })\n",
        "\n",
        "    # Заголовки запроса\n",
        "    headers = {\n",
        "        'Content-Type': 'application/json',\n",
        "        'Accept': 'application/json',\n",
        "        'Authorization': f'Bearer {auth_token}'\n",
        "    }\n",
        "\n",
        "    # Выполнение POST-запроса и возвращение ответа\n",
        "    try:\n",
        "        response = requests.post(url, headers=headers, data=payload, verify=False)\n",
        "        response_data = response.json()\n",
        "        print(response_data)\n",
        "\n",
        "        # Добавляем ответ модели в историю диалога\n",
        "        conversation_history.append({\n",
        "            \"role\": \"assistant\",\n",
        "            \"content\": response_data['choices'][0]['message']['content']\n",
        "        })\n",
        "\n",
        "        return response, conversation_history\n",
        "    except requests.RequestException as e:\n",
        "        # Обработка исключения в случае ошибки запроса\n",
        "        print(f\"Произошла ошибка: {str(e)}\")\n",
        "        return None, conversation_history\n",
        "\n"
      ],
      "metadata": {
        "id": "wizk0o-CEf9m"
      },
      "execution_count": 18,
      "outputs": []
    },
    {
      "cell_type": "code",
      "source": [
        "# Пример использования функции для диалога\n",
        "\n",
        "conversation_history = []\n",
        "\n",
        "# Пользователь отправляет первое сообщение\n",
        "response, conversation_history = get_chat_completion(giga_token, \"Привет, как дела?\", conversation_history)\n",
        "\n",
        "# Пользователь отправляет следующее сообщение, продолжая диалог\n",
        "response, conversation_history = get_chat_completion(giga_token, \"Что ты умеешь делать?\", conversation_history)\n"
      ],
      "metadata": {
        "id": "sZQpjXYBs6E9",
        "colab": {
          "base_uri": "https://localhost:8080/"
        },
        "outputId": "438b11c1-964d-4c9f-dc66-f073ec06d6aa"
      },
      "execution_count": 19,
      "outputs": [
        {
          "output_type": "stream",
          "name": "stderr",
          "text": [
            "/usr/local/lib/python3.10/dist-packages/urllib3/connectionpool.py:1100: InsecureRequestWarning: Unverified HTTPS request is being made to host 'gigachat.devices.sberbank.ru'. Adding certificate verification is strongly advised. See: https://urllib3.readthedocs.io/en/latest/advanced-usage.html#tls-warnings\n",
            "  warnings.warn(\n"
          ]
        },
        {
          "output_type": "stream",
          "name": "stdout",
          "text": [
            "{'choices': [{'message': {'content': 'Привет! Все хорошо, спасибо за интерес. Чем я могу вам помочь?', 'role': 'assistant'}, 'index': 0, 'finish_reason': 'stop'}], 'created': 1714503773, 'model': 'GigaChat:3.1.24.3', 'object': 'chat.completion', 'usage': {'prompt_tokens': 16, 'completion_tokens': 18, 'total_tokens': 34, 'system_tokens': 204}}\n"
          ]
        },
        {
          "output_type": "stream",
          "name": "stderr",
          "text": [
            "/usr/local/lib/python3.10/dist-packages/urllib3/connectionpool.py:1100: InsecureRequestWarning: Unverified HTTPS request is being made to host 'gigachat.devices.sberbank.ru'. Adding certificate verification is strongly advised. See: https://urllib3.readthedocs.io/en/latest/advanced-usage.html#tls-warnings\n",
            "  warnings.warn(\n"
          ]
        },
        {
          "output_type": "stream",
          "name": "stdout",
          "text": [
            "{'choices': [{'message': {'content': 'Я могу отвечать на вопросы, поддерживать беседу, предоставлять информацию, генерировать изображения и видео, а также выполнять арифметические действия.', 'role': 'assistant'}, 'index': 0, 'finish_reason': 'stop'}], 'created': 1714503775, 'model': 'GigaChat:3.1.24.3', 'object': 'chat.completion', 'usage': {'prompt_tokens': 47, 'completion_tokens': 31, 'total_tokens': 78, 'system_tokens': 204}}\n"
          ]
        }
      ]
    },
    {
      "cell_type": "code",
      "source": [
        "conversation_history"
      ],
      "metadata": {
        "id": "YG6Rz4peKMJn",
        "colab": {
          "base_uri": "https://localhost:8080/"
        },
        "outputId": "61301489-602e-4332-f6b1-dae8cad3ffa4"
      },
      "execution_count": 20,
      "outputs": [
        {
          "output_type": "execute_result",
          "data": {
            "text/plain": [
              "[{'role': 'user', 'content': 'Привет, как дела?'},\n",
              " {'role': 'assistant',\n",
              "  'content': 'Привет! Все хорошо, спасибо за интерес. Чем я могу вам помочь?'},\n",
              " {'role': 'user', 'content': 'Что ты умеешь делать?'},\n",
              " {'role': 'assistant',\n",
              "  'content': 'Я могу отвечать на вопросы, поддерживать беседу, предоставлять информацию, генерировать изображения и видео, а также выполнять арифметические действия.'}]"
            ]
          },
          "metadata": {},
          "execution_count": 20
        }
      ]
    },
    {
      "cell_type": "markdown",
      "source": [
        "## Добавим системный промпт\n",
        "Системный промпт определяет роль, задавать контект и особенности общения бота с пользователем."
      ],
      "metadata": {
        "id": "8A5ZMbPYVh2w"
      }
    },
    {
      "cell_type": "code",
      "source": [
        "conversation_history = [{\n",
        "    'role': 'system',\n",
        "    'content': 'Отвечай как бывалый пират. Пусть тебя зовут Генри Морган.'\n",
        "\n",
        "}\n",
        "\n",
        "]"
      ],
      "metadata": {
        "id": "6INL_XYbVhHI"
      },
      "execution_count": 21,
      "outputs": []
    },
    {
      "cell_type": "code",
      "source": [
        "response, conversation_history = get_chat_completion(giga_token, 'Привет, друг!', conversation_history)"
      ],
      "metadata": {
        "id": "IuXqi4FbXvUz",
        "colab": {
          "base_uri": "https://localhost:8080/"
        },
        "outputId": "888a3519-2eab-44dd-dee5-90a770722ca9"
      },
      "execution_count": 22,
      "outputs": [
        {
          "output_type": "stream",
          "name": "stderr",
          "text": [
            "/usr/local/lib/python3.10/dist-packages/urllib3/connectionpool.py:1100: InsecureRequestWarning: Unverified HTTPS request is being made to host 'gigachat.devices.sberbank.ru'. Adding certificate verification is strongly advised. See: https://urllib3.readthedocs.io/en/latest/advanced-usage.html#tls-warnings\n",
            "  warnings.warn(\n"
          ]
        },
        {
          "output_type": "stream",
          "name": "stdout",
          "text": [
            "{'choices': [{'message': {'content': 'Вечер добрый, капитан! Какими ветрами занесло в эти края?', 'role': 'assistant'}, 'index': 0, 'finish_reason': 'stop'}], 'created': 1714503898, 'model': 'GigaChat:3.1.24.3', 'object': 'chat.completion', 'usage': {'prompt_tokens': 36, 'completion_tokens': 20, 'total_tokens': 56, 'system_tokens': 21}}\n"
          ]
        }
      ]
    },
    {
      "cell_type": "code",
      "source": [
        "response.json()['choices'][0]['message']['content']"
      ],
      "metadata": {
        "id": "jYnW5lZJtRRE",
        "colab": {
          "base_uri": "https://localhost:8080/",
          "height": 35
        },
        "outputId": "941f2061-351e-4051-88eb-5805f281728e"
      },
      "execution_count": 23,
      "outputs": [
        {
          "output_type": "execute_result",
          "data": {
            "text/plain": [
              "'Вечер добрый, капитан! Какими ветрами занесло в эти края?'"
            ],
            "application/vnd.google.colaboratory.intrinsic+json": {
              "type": "string"
            }
          },
          "metadata": {},
          "execution_count": 23
        }
      ]
    },
    {
      "cell_type": "markdown",
      "source": [
        "## Генерация картинок Кандинским\n",
        "[Документация](https://developers.sber.ru/docs/ru/gigachat/api/reference/rest/get-file-id)\n",
        "\n",
        "Делаем запрос на генерацию прямо в GigaChat"
      ],
      "metadata": {
        "id": "4pjQtWaOL_CF"
      }
    },
    {
      "cell_type": "code",
      "source": [
        "import requests\n",
        "import json\n",
        "\n",
        "def send_chat_request(giga_token, user_message):\n",
        "    \"\"\"\n",
        "    Отправляет POST-запрос к API GigaChat для получения ответа от модели чата.\n",
        "\n",
        "    Параметры:\n",
        "    - giga_token (str): Токен авторизации для доступа к API GigaChat.\n",
        "    - user_message (str): Сообщение пользователя, которое будет обработано моделью GigaChat.\n",
        "\n",
        "    Возвращает:\n",
        "    - str: Строка сгенерированного ответа GigaChat с тэгом img\n",
        "    \"\"\"\n",
        "    # URL API для отправки запросов к GigaChat\n",
        "    url = \"https://gigachat.devices.sberbank.ru/api/v1/chat/completions\"\n",
        "\n",
        "    # Заголовки для HTTP-запроса\n",
        "    headers = {\n",
        "        'Content-Type': 'application/json',  # Указываем, что отправляемые данные в формате JSON\n",
        "        'Authorization': f'Bearer {giga_token}',  # Используем токен авторизации для доступа к API\n",
        "    }\n",
        "\n",
        "    # Данные для отправки в теле запроса\n",
        "    payload = {\n",
        "        \"model\": \"GigaChat:latest\",  # Указываем, что хотим использовать последнюю версию модели GigaChat\n",
        "        \"messages\": [\n",
        "            {\n",
        "                \"role\": \"user\",  # Роль отправителя - пользователь\n",
        "                \"content\": user_message  # Сообщение от пользователя\n",
        "            },\n",
        "        ],\n",
        "        \"temperature\": 0.7  # Устанавливаем температуру, чтобы управлять случайностью ответов\n",
        "    }\n",
        "\n",
        "    try:\n",
        "        # Отправляем POST-запрос к API и получаем ответ\n",
        "        response = requests.post(url, headers=headers, data=json.dumps(payload), verify=False)\n",
        "        # Выводим текст ответа. В реальных условиях следует обрабатывать ответ и проверять статус коды.\n",
        "        print(response.json())\n",
        "        return response.json()[\"choices\"][0][\"message\"][\"content\"]\n",
        "    except requests.RequestException as e:\n",
        "        # В случае возникновения исключения в процессе выполнения запроса, выводим ошибку\n",
        "        print(f\"Произошла ошибка: {str(e)}\")\n",
        "        return None\n",
        "\n",
        "\n",
        "\n"
      ],
      "metadata": {
        "id": "km8eWEvzKOkz"
      },
      "execution_count": 24,
      "outputs": []
    },
    {
      "cell_type": "code",
      "source": [
        "user_message = \"Нарисуй фотореалистичное изображение антропоморфного робота с \\\n",
        "ноутбуком в руках\"\n",
        "response_img_tag = send_chat_request(giga_token, user_message)\n",
        "print(response_img_tag)"
      ],
      "metadata": {
        "id": "Hl_eXKXvvMaD",
        "colab": {
          "base_uri": "https://localhost:8080/"
        },
        "outputId": "c3cd3969-6042-48f0-c020-9cdd1ce7af0e"
      },
      "execution_count": 25,
      "outputs": [
        {
          "output_type": "stream",
          "name": "stderr",
          "text": [
            "/usr/local/lib/python3.10/dist-packages/urllib3/connectionpool.py:1100: InsecureRequestWarning: Unverified HTTPS request is being made to host 'gigachat.devices.sberbank.ru'. Adding certificate verification is strongly advised. See: https://urllib3.readthedocs.io/en/latest/advanced-usage.html#tls-warnings\n",
            "  warnings.warn(\n"
          ]
        },
        {
          "output_type": "stream",
          "name": "stdout",
          "text": [
            "{'choices': [{'message': {'content': 'Вот фотореалистичное изображение антропоморфного робота с ноутбуком в руках: <img src=\"c088ccef-a264-446a-b1ca-c4ece4bcac62\" fuse=\"true\"/>', 'role': 'assistant'}, 'index': 0, 'finish_reason': 'stop'}], 'created': 1714503954, 'model': 'GigaChat:3.1.24.3', 'object': 'chat.completion', 'usage': {'prompt_tokens': 32, 'completion_tokens': 44, 'total_tokens': 76, 'system_tokens': 204}}\n",
            "Вот фотореалистичное изображение антропоморфного робота с ноутбуком в руках: <img src=\"c088ccef-a264-446a-b1ca-c4ece4bcac62\" fuse=\"true\"/>\n"
          ]
        }
      ]
    },
    {
      "cell_type": "markdown",
      "source": [
        "Получаем само изображение и сохраняем его в файл"
      ],
      "metadata": {
        "id": "-obvskmd8v-w"
      }
    },
    {
      "cell_type": "code",
      "source": [
        "from bs4 import BeautifulSoup\n",
        "\n",
        "\n",
        "\n",
        "# Парсим HTML\n",
        "soup = BeautifulSoup(response_img_tag, 'html.parser')\n",
        "\n",
        "# Извлекаем значение атрибута `src`\n",
        "img_src = soup.img['src']\n",
        "\n",
        "print(img_src)"
      ],
      "metadata": {
        "id": "00rkAbJn8Tua",
        "colab": {
          "base_uri": "https://localhost:8080/"
        },
        "outputId": "66961b98-5168-4e37-cf95-c1bbe0b9f334"
      },
      "execution_count": 26,
      "outputs": [
        {
          "output_type": "stream",
          "name": "stdout",
          "text": [
            "c088ccef-a264-446a-b1ca-c4ece4bcac62\n"
          ]
        }
      ]
    },
    {
      "cell_type": "code",
      "source": [
        "import requests\n",
        "\n",
        "headers = {\n",
        "    'Content-Type': 'application/json',\n",
        "    'Authorization': f'Bearer {giga_token}',\n",
        "}\n",
        "\n",
        "response = requests.get(f'https://gigachat.devices.sberbank.ru/api/v1/files/{img_src}/content', headers=headers, verify=False)"
      ],
      "metadata": {
        "id": "0n4jcaJn9n-7",
        "colab": {
          "base_uri": "https://localhost:8080/"
        },
        "outputId": "bc06d9c1-acf1-44c3-fe32-208aaf8b724d"
      },
      "execution_count": 27,
      "outputs": [
        {
          "output_type": "stream",
          "name": "stderr",
          "text": [
            "/usr/local/lib/python3.10/dist-packages/urllib3/connectionpool.py:1100: InsecureRequestWarning: Unverified HTTPS request is being made to host 'gigachat.devices.sberbank.ru'. Adding certificate verification is strongly advised. See: https://urllib3.readthedocs.io/en/latest/advanced-usage.html#tls-warnings\n",
            "  warnings.warn(\n"
          ]
        }
      ]
    },
    {
      "cell_type": "code",
      "source": [
        "with open('image.jpg', 'wb') as f:\n",
        "    f.write(response.content)"
      ],
      "metadata": {
        "id": "mp4DRNxY902j"
      },
      "execution_count": 28,
      "outputs": []
    },
    {
      "cell_type": "code",
      "source": [],
      "metadata": {
        "id": "MHUEMF3O-KQT"
      },
      "execution_count": null,
      "outputs": []
    }
  ]
}